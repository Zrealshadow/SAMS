{
 "cells": [
  {
   "cell_type": "code",
   "execution_count": 1,
   "metadata": {},
   "outputs": [
    {
     "name": "stderr",
     "output_type": "stream",
     "text": [
      "/home/huangdan/anaconda3/lib/python3.9/site-packages/pandas/core/computation/expressions.py:21: UserWarning: Pandas requires version '2.8.4' or newer of 'numexpr' (version '2.8.1' currently installed).\n",
      "  from pandas.core.computation.check import NUMEXPR_INSTALLED\n",
      "/home/huangdan/anaconda3/lib/python3.9/site-packages/pandas/core/arrays/masked.py:60: UserWarning: Pandas requires version '1.3.6' or newer of 'bottleneck' (version '1.3.4' currently installed).\n",
      "  from pandas.core import (\n"
     ]
    },
    {
     "name": "stdout",
     "output_type": "stream",
     "text": [
      "(CVXPY) Mar 01 10:58:09 AM: Encountered unexpected exception importing solver GLOP:\n",
      "RuntimeError('Unrecognized new version of ortools (9.8.3296). Expected < 9.8.0. Please open a feature request on cvxpy to enable support for this version.')\n",
      "(CVXPY) Mar 01 10:58:09 AM: Encountered unexpected exception importing solver PDLP:\n",
      "RuntimeError('Unrecognized new version of ortools (9.8.3296). Expected < 9.8.0. Please open a feature request on cvxpy to enable support for this version.')\n"
     ]
    }
   ],
   "source": [
    "import pandas as pd\n",
    "from optbinning import OptimalBinning\n",
    "from sklearn.preprocessing import KBinsDiscretizer\n",
    "import numpy as np"
   ]
  },
  {
   "cell_type": "markdown",
   "metadata": {},
   "source": [
    "### Load data and repeat the preprocess."
   ]
  },
  {
   "cell_type": "code",
   "execution_count": 2,
   "metadata": {},
   "outputs": [],
   "source": [
    "file_path = \"/hdd1/sams/diabetes/diabetes.arff\"\n",
    "with open(file_path, 'r') as f:\n",
    "    lines = f.readlines()"
   ]
  },
  {
   "cell_type": "code",
   "execution_count": 3,
   "metadata": {},
   "outputs": [],
   "source": [
    "flag = False\n",
    "rows = []\n",
    "for line in lines:\n",
    "    if line.strip() == \"@data\":\n",
    "        flag = True\n",
    "        continue\n",
    "    \n",
    "    if not flag:\n",
    "        continue\n",
    "    \n",
    "    row = [i for i in line.strip().split(',')]\n",
    "    rows.append(row) "
   ]
  },
  {
   "cell_type": "code",
   "execution_count": 4,
   "metadata": {},
   "outputs": [],
   "source": [
    "data = np.array(rows)\n",
    "df = pd.DataFrame(data)"
   ]
  },
  {
   "cell_type": "code",
   "execution_count": 5,
   "metadata": {},
   "outputs": [],
   "source": [
    "y_map = {\"'NO'\":0, \"'<30'\":1, \"'>30'\":1}\n",
    "df[49] = df[49].map(y_map)"
   ]
  },
  {
   "cell_type": "code",
   "execution_count": 6,
   "metadata": {},
   "outputs": [],
   "source": [
    "patient_col = df[1].values\n",
    "d = {}\n",
    "for i in patient_col:\n",
    "    if i not in d:\n",
    "        d[i] = 0\n",
    "    d[i] += 1"
   ]
  },
  {
   "cell_type": "code",
   "execution_count": 7,
   "metadata": {},
   "outputs": [],
   "source": [
    "map_d = {}\n",
    "for k,v in d.items():\n",
    "    if v > 1:\n",
    "        map_d[k] = 1\n",
    "    else:\n",
    "        map_d[k] = 0"
   ]
  },
  {
   "cell_type": "code",
   "execution_count": 8,
   "metadata": {},
   "outputs": [],
   "source": [
    "# df[1] = df[1].map(d)\n",
    "df[1] = df[1].map(map_d)"
   ]
  },
  {
   "cell_type": "code",
   "execution_count": 9,
   "metadata": {},
   "outputs": [
    {
     "name": "stdout",
     "output_type": "stream",
     "text": [
      "717\n",
      "OPTIMAL\n",
      "88\n"
     ]
    }
   ],
   "source": [
    "# diag_1 18\n",
    "print(len(df[18].unique()))\n",
    "y = df[49].values\n",
    "optb = OptimalBinning(name=\"1\", dtype=\"categorical\", solver=\"cp\",\n",
    "                      monotonic_trend=\"auto\", max_n_prebins=100,\n",
    "                      min_prebin_size=0.001,time_limit=200)\n",
    "optb.fit(df[18].values,y)\n",
    "print(optb.status)\n",
    "\n",
    "x = optb.transform(df[18], metric=\"indices\")\n",
    "print(max(x))\n",
    "df[18] = x"
   ]
  },
  {
   "cell_type": "code",
   "execution_count": 10,
   "metadata": {},
   "outputs": [
    {
     "name": "stdout",
     "output_type": "stream",
     "text": [
      "749\n",
      "OPTIMAL\n",
      "80\n"
     ]
    }
   ],
   "source": [
    "# diag_2 19\n",
    "print(len(df[19].unique()))\n",
    "y = df[49].values\n",
    "optb = OptimalBinning(name=\"1\", dtype=\"categorical\", solver=\"cp\",\n",
    "                      monotonic_trend=\"auto\", max_n_prebins=100,\n",
    "                      min_prebin_size=0.001,time_limit=200)\n",
    "optb.fit(df[19].values,y)\n",
    "print(optb.status)\n",
    "x = optb.transform(df[19], metric=\"indices\")\n",
    "print(max(x))\n",
    "df[19] = x"
   ]
  },
  {
   "cell_type": "code",
   "execution_count": 11,
   "metadata": {},
   "outputs": [
    {
     "name": "stdout",
     "output_type": "stream",
     "text": [
      "790\n",
      "OPTIMAL\n",
      "84\n"
     ]
    }
   ],
   "source": [
    "# diag_3 20\n",
    "print(len(df[20].unique()))\n",
    "y = df[49].values\n",
    "optb = OptimalBinning(name=\"1\", dtype=\"categorical\", solver=\"cp\",\n",
    "                      monotonic_trend=\"auto\", max_n_prebins=100,\n",
    "                      min_prebin_size=0.001,time_limit=200)\n",
    "optb.fit(df[20].values,y)\n",
    "print(optb.status)\n",
    "x = optb.transform(df[20], metric=\"indices\")\n",
    "print(max(x))\n",
    "df[20] = x"
   ]
  },
  {
   "cell_type": "code",
   "execution_count": 12,
   "metadata": {},
   "outputs": [],
   "source": [
    "del df[0]\n",
    "Y = df[49]\n",
    "del df[49]\n",
    "X = df"
   ]
  },
  {
   "cell_type": "code",
   "execution_count": 13,
   "metadata": {},
   "outputs": [],
   "source": [
    "col_to_value2token = {}\n",
    "cnt = 0\n",
    "for col in X.columns:\n",
    "    col_values = X[col].values\n",
    "    col_to_value2token[col] = {}\n",
    "    col_values_set = set(col_values)\n",
    "    for val in col_values_set:\n",
    "        if val not in col_to_value2token[col]:\n",
    "            col_to_value2token[col][val] = cnt\n",
    "            cnt += 1"
   ]
  },
  {
   "cell_type": "code",
   "execution_count": 15,
   "metadata": {},
   "outputs": [],
   "source": [
    "# sql 14\n",
    "predicate_bitmap = [0, 0, 0, 0, 0, 1, 0, 0, 0, 0, 0, 0, 0, 0, 0, 0, 0, 0, 0, 0, 0, 0, 0, 0, 0, 0, 0, 0, 0, 0, 0, 0, 0, 0, 0, 0, 0, 0, 0, 0, 0, 0, 0, 0, 1, 0, 1, 0]\n",
    "sql = [833, 834, 835, 836, 837, 34, 839, 840, 841, 842, 843, 844, 845, 846, 847, 848, 849, 850, 851, 852, 853, 854, 855, 856, 857, 858, 859, 860, 861, 862, 863, 864, 865, 866, 867, 868, 869, 870, 871, 872, 873, 874, 875, 876, 825, 878, 830, 880]"
   ]
  },
  {
   "cell_type": "code",
   "execution_count": 16,
   "metadata": {},
   "outputs": [],
   "source": [
    "def parse_sql(predicate_bitmap, sql):\n",
    "    for col_idx, i in enumerate(predicate_bitmap):\n",
    "        if i == 0:\n",
    "            continue\n",
    "        cname = \"V\"+ str(col_idx + 1)\n",
    "        value2token = col_to_value2token[X.columns[col_idx]]\n",
    "        print(f\"value to token:{value2token}\")\n",
    "        print(f'Column {cname}, token {sql[col_idx]}')"
   ]
  },
  {
   "cell_type": "code",
   "execution_count": 17,
   "metadata": {},
   "outputs": [
    {
     "name": "stdout",
     "output_type": "stream",
     "text": [
      "value to token:{'1': 31, '6': 32, '8': 33, '4': 34, '3': 35, '7': 36, '5': 37, '2': 38}\n",
      "Column V6, token 34\n",
      "value to token:{\"'Steady'\": 826, \"'No'\": 827}\n",
      "Column V45, token 825\n",
      "value to token:{\"'Ch'\": 830, \"'No'\": 831}\n",
      "Column V47, token 830\n"
     ]
    }
   ],
   "source": [
    "parse_sql(predicate_bitmap, sql)"
   ]
  },
  {
   "cell_type": "code",
   "execution_count": 18,
   "metadata": {},
   "outputs": [
    {
     "data": {
      "text/plain": [
       "6\n",
       "1    53990\n",
       "3    18869\n",
       "2    18480\n",
       "6     5291\n",
       "5     4785\n",
       "8      320\n",
       "7       21\n",
       "4       10\n",
       "Name: count, dtype: int64"
      ]
     },
     "execution_count": 18,
     "metadata": {},
     "output_type": "execute_result"
    }
   ],
   "source": [
    "X[X.columns[5]].value_counts()"
   ]
  },
  {
   "cell_type": "code",
   "execution_count": 19,
   "metadata": {},
   "outputs": [
    {
     "data": {
      "text/plain": [
       "45\n",
       "'No'        101764\n",
       "'Steady'         2\n",
       "Name: count, dtype: int64"
      ]
     },
     "execution_count": 19,
     "metadata": {},
     "output_type": "execute_result"
    }
   ],
   "source": [
    "X[X.columns[44]].value_counts()"
   ]
  },
  {
   "cell_type": "code",
   "execution_count": 21,
   "metadata": {},
   "outputs": [
    {
     "data": {
      "text/plain": [
       "47\n",
       "'No'    54755\n",
       "'Ch'    47011\n",
       "Name: count, dtype: int64"
      ]
     },
     "execution_count": 21,
     "metadata": {},
     "output_type": "execute_result"
    }
   ],
   "source": [
    "X[X.columns[46]].value_counts()"
   ]
  },
  {
   "cell_type": "code",
   "execution_count": null,
   "metadata": {},
   "outputs": [],
   "source": [
    "# change = 'No' && admission_type = 3 && metformin.rosiglitazone = 'Ch'"
   ]
  },
  {
   "cell_type": "code",
   "execution_count": 23,
   "metadata": {},
   "outputs": [
    {
     "name": "stdout",
     "output_type": "stream",
     "text": [
      "value to token:{0: 480, 1: 481, 2: 482, 3: 483, 4: 484, 5: 485, 6: 486, 7: 487, 8: 488, 9: 489, 10: 490, 11: 491, 12: 492, 13: 493, 14: 494, 15: 495, 16: 496, 17: 497, 18: 498, 19: 499, 20: 500, 21: 501, 22: 502, 23: 503, 24: 504, 25: 505, 26: 506, 27: 507, 28: 508, 29: 509, 30: 510, 31: 511, 32: 512, 33: 513, 34: 514, 35: 515, 36: 516, 37: 517, 38: 518, 39: 519, 40: 520, 41: 521, 42: 522, 43: 523, 44: 524, 45: 525, 46: 526, 47: 527, 48: 528, 49: 529, 50: 530, 51: 531, 52: 532, 53: 533, 54: 534, 55: 535, 56: 536, 57: 537, 58: 538, 59: 539, 60: 540, 61: 541, 62: 542, 63: 543, 64: 544, 65: 545, 66: 546, 67: 547, 68: 548, 69: 549, 70: 550, 71: 551, 72: 552, 73: 553, 74: 554, 75: 555, 76: 556, 77: 557, 78: 558, 79: 559, 80: 560, 81: 561, 82: 562, 83: 563, 84: 564, 85: 565, 86: 566, 87: 567, 88: 568}\n",
      "Column V18, token 531\n"
     ]
    }
   ],
   "source": [
    "# 16\n",
    "predicate_bitmap = [0, 0, 0, 0, 0, 0, 0, 0, 0, 0, 0, 0, 0, 0, 0, 0, 0, 1, 0, 0, 0, 0, 0, 0, 0, 0, 0, 0, 0, 0, 0, 0, 0, 0, 0, 0, 0, 0, 0, 0, 0, 0, 0, 0, 0, 0, 0, 0]\n",
    "sql = [833, 834, 835, 836, 837, 838, 839, 840, 841, 842, 843, 844, 845, 846, 847, 848, 849, 531, 851, 852, 853, 854, 855, 856, 857, 858, 859, 860, 861, 862, 863, 864, 865, 866, 867, 868, 869, 870, 871, 872, 873, 874, 875, 876, 877, 878, 879, 880]\n",
    "parse_sql(predicate_bitmap, sql)"
   ]
  },
  {
   "cell_type": "code",
   "execution_count": 59,
   "metadata": {},
   "outputs": [
    {
     "data": {
      "text/plain": [
       "615"
      ]
     },
     "execution_count": 59,
     "metadata": {},
     "output_type": "execute_result"
    }
   ],
   "source": [
    "X[X.columns[17]].value_counts().to_dict()[50]\n"
   ]
  },
  {
   "cell_type": "code",
   "execution_count": null,
   "metadata": {},
   "outputs": [],
   "source": [
    "# diag_1 = '50'"
   ]
  },
  {
   "cell_type": "code",
   "execution_count": 64,
   "metadata": {},
   "outputs": [
    {
     "name": "stdout",
     "output_type": "stream",
     "text": [
      "value to token:{'1': 426, '6': 427, '8': 428, '3': 429, '10': 430, '12': 431, '42': 432, '28': 433, '18': 434, '76': 435, '15': 436, '19': 437, '25': 438, '54': 439, '4': 440, '22': 441, '7': 442, '64': 443, '5': 444, '13': 445, '37': 446, '16': 447, '2': 448, '0': 449, '63': 450, '46': 451, '24': 452, '29': 453, '9': 454, '21': 455, '20': 456, '11': 457, '14': 458}\n",
      "Column V16, token 458\n",
      "value to token:{\"'Steady'\": 828, \"'No'\": 829}\n",
      "Column V46, token 827\n"
     ]
    }
   ],
   "source": [
    "# 17\n",
    "predicate_bitmap = [0, 0, 0, 0, 0, 0, 0, 0, 0, 0, 0, 0, 0, 0, 0, 1, 0, 0, 0, 0, 0, 0, 0, 0, 0, 0, 0, 0, 0, 0, 0, 0, 0, 0, 0, 0, 0, 0, 0, 0, 0, 0, 0, 0, 0, 1, 0, 0]\n",
    "sql = [833, 834, 835, 836, 837, 838, 839, 840, 841, 842, 843, 844, 845, 846, 847, 458, 849, 850, 851, 852, 853, 854, 855, 856, 857, 858, 859, 860, 861, 862, 863, 864, 865, 866, 867, 868, 869, 870, 871, 872, 873, 874, 875, 876, 877, 827, 879, 880]\n",
    "parse_sql(predicate_bitmap, sql)"
   ]
  },
  {
   "cell_type": "code",
   "execution_count": 70,
   "metadata": {},
   "outputs": [
    {
     "data": {
      "text/plain": [
       "4"
      ]
     },
     "execution_count": 70,
     "metadata": {},
     "output_type": "execute_result"
    }
   ],
   "source": [
    "X[X.columns[15]].value_counts().to_dict()['20']"
   ]
  },
  {
   "cell_type": "code",
   "execution_count": 68,
   "metadata": {},
   "outputs": [
    {
     "data": {
      "text/plain": [
       "46\n",
       "'No'        101765\n",
       "'Steady'         1\n",
       "Name: count, dtype: int64"
      ]
     },
     "execution_count": 68,
     "metadata": {},
     "output_type": "execute_result"
    }
   ],
   "source": [
    "X[X.columns[45]].value_counts()"
   ]
  },
  {
   "cell_type": "code",
   "execution_count": null,
   "metadata": {},
   "outputs": [],
   "source": [
    "# metformin.pioglitazone = 'No' && number_outpatients = "
   ]
  }
 ],
 "metadata": {
  "kernelspec": {
   "display_name": "base",
   "language": "python",
   "name": "python3"
  },
  "language_info": {
   "codemirror_mode": {
    "name": "ipython",
    "version": 3
   },
   "file_extension": ".py",
   "mimetype": "text/x-python",
   "name": "python",
   "nbconvert_exporter": "python",
   "pygments_lexer": "ipython3",
   "version": "3.9.12"
  }
 },
 "nbformat": 4,
 "nbformat_minor": 2
}
