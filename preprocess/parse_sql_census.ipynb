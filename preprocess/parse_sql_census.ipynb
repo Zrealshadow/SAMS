{
 "cells": [
  {
   "cell_type": "code",
   "execution_count": 1,
   "metadata": {},
   "outputs": [
    {
     "name": "stderr",
     "output_type": "stream",
     "text": [
      "/home/huangdan/anaconda3/lib/python3.9/site-packages/pandas/core/computation/expressions.py:21: UserWarning: Pandas requires version '2.8.4' or newer of 'numexpr' (version '2.8.1' currently installed).\n",
      "  from pandas.core.computation.check import NUMEXPR_INSTALLED\n",
      "/home/huangdan/anaconda3/lib/python3.9/site-packages/pandas/core/arrays/masked.py:60: UserWarning: Pandas requires version '1.3.6' or newer of 'bottleneck' (version '1.3.4' currently installed).\n",
      "  from pandas.core import (\n"
     ]
    },
    {
     "name": "stdout",
     "output_type": "stream",
     "text": [
      "(CVXPY) Feb 29 03:16:45 PM: Encountered unexpected exception importing solver GLOP:\n",
      "RuntimeError('Unrecognized new version of ortools (9.8.3296). Expected < 9.8.0. Please open a feature request on cvxpy to enable support for this version.')\n",
      "(CVXPY) Feb 29 03:16:45 PM: Encountered unexpected exception importing solver PDLP:\n",
      "RuntimeError('Unrecognized new version of ortools (9.8.3296). Expected < 9.8.0. Please open a feature request on cvxpy to enable support for this version.')\n"
     ]
    }
   ],
   "source": [
    "import numpy as np\n",
    "import pandas as pd\n",
    "from optbinning import OptimalBinning"
   ]
  },
  {
   "cell_type": "markdown",
   "metadata": {},
   "source": [
    "### Load data and repeat the preprocess."
   ]
  },
  {
   "cell_type": "code",
   "execution_count": 2,
   "metadata": {},
   "outputs": [],
   "source": [
    "file_path = \"/hdd1/sams/census/census.arff\"\n",
    "with open(file_path, 'r') as f:\n",
    "    lines = f.readlines()"
   ]
  },
  {
   "cell_type": "code",
   "execution_count": 3,
   "metadata": {},
   "outputs": [],
   "source": [
    "flag = False\n",
    "rows = []\n",
    "for line in lines:\n",
    "    if line.strip() == \"@data\":\n",
    "        flag = True\n",
    "        continue\n",
    "    \n",
    "    if not flag:\n",
    "        continue\n",
    "    \n",
    "    row = [i for i in line.strip().split(',')]\n",
    "    if len(row) != 42:\n",
    "        print(row)\n",
    "        break\n",
    "    rows.append(row) \n",
    "del lines"
   ]
  },
  {
   "cell_type": "code",
   "execution_count": 4,
   "metadata": {},
   "outputs": [],
   "source": [
    "df = pd.DataFrame(rows)"
   ]
  },
  {
   "cell_type": "code",
   "execution_count": 5,
   "metadata": {},
   "outputs": [
    {
     "data": {
      "text/plain": [
       "13"
      ]
     },
     "execution_count": 5,
     "metadata": {},
     "output_type": "execute_result"
    }
   ],
   "source": [
    "numerical_cols = [0,2,3,5,16,17,18,24,30,36,38,39,40]\n",
    "len(numerical_cols)"
   ]
  },
  {
   "cell_type": "code",
   "execution_count": 6,
   "metadata": {},
   "outputs": [
    {
     "name": "stdout",
     "output_type": "stream",
     "text": [
      "#col: 42\n",
      "0:91\n",
      "2:52\n",
      "3:47\n",
      "5:1425\n",
      "16:133\n",
      "17:114\n",
      "18:1675\n",
      "24:123232\n",
      "39:53\n"
     ]
    }
   ],
   "source": [
    "bin_cols = []\n",
    "print(f\"#col: {len(df.columns)}\")\n",
    "for col in numerical_cols:\n",
    "    n = len(df[col].unique())\n",
    "    if n > 7:\n",
    "        print(f\"{col}:{n}\")\n",
    "        bin_cols.append(col)"
   ]
  },
  {
   "cell_type": "code",
   "execution_count": 7,
   "metadata": {},
   "outputs": [],
   "source": [
    "# transfer these bin cols to float\n",
    "for col in bin_cols:\n",
    "    try:\n",
    "        df[col] = df[col].astype(float)\n",
    "    except:\n",
    "        print(col)"
   ]
  },
  {
   "cell_type": "code",
   "execution_count": 8,
   "metadata": {},
   "outputs": [],
   "source": [
    "# label to 1,0\n",
    "map_y = {\"' - 50000.'\": 0, \"' 50000+.'\":1}\n",
    "df[41] = df[41].map(map_y)"
   ]
  },
  {
   "cell_type": "code",
   "execution_count": 9,
   "metadata": {},
   "outputs": [],
   "source": [
    "Y = df[41]\n",
    "del df[41]\n",
    "# X = df[range(69)]\n",
    "X = df"
   ]
  },
  {
   "cell_type": "code",
   "execution_count": 10,
   "metadata": {},
   "outputs": [],
   "source": [
    "def optbinning_data(df:pd.DataFrame, column:int, y:np.array):\n",
    "    x = df[column].values\n",
    "\n",
    "    optb = OptimalBinning(name=\"23\", dtype=\"numerical\", solver=\"cp\",\n",
    "                      monotonic_trend=\"auto\", \n",
    "                      max_n_prebins=100,\n",
    "                      min_prebin_size=0.001, time_limit=200)\n",
    "    optb.fit(x,y)\n",
    "    res = optb.transform(x, metric=\"indices\")\n",
    "    bin_number = max(res)\n",
    "    status = optb.status\n",
    "    set_n = len(df[column].unique())\n",
    "    print(f\"bin column:{column}, set size {set_n}, bin status {status}, bin_number {bin_number}\")\n",
    "    return res"
   ]
  },
  {
   "cell_type": "code",
   "execution_count": 11,
   "metadata": {},
   "outputs": [
    {
     "name": "stdout",
     "output_type": "stream",
     "text": [
      "bin column:0, set size 91, bin status OPTIMAL, bin_number 45\n",
      "bin column:2, set size 52, bin status OPTIMAL, bin_number 5\n",
      "bin column:3, set size 47, bin status OPTIMAL, bin_number 1\n",
      "bin column:5, set size 1425, bin status OPTIMAL, bin_number 5\n",
      "bin column:16, set size 133, bin status OPTIMAL, bin_number 6\n",
      "bin column:17, set size 114, bin status OPTIMAL, bin_number 6\n",
      "bin column:18, set size 1675, bin status OPTIMAL, bin_number 16\n",
      "bin column:24, set size 123232, bin status FEASIBLE, bin_number 11\n",
      "bin column:39, set size 53, bin status OPTIMAL, bin_number 17\n"
     ]
    }
   ],
   "source": [
    "for col in bin_cols:\n",
    "    v = optbinning_data(X, col, Y.values)\n",
    "    X[col] = v "
   ]
  },
  {
   "cell_type": "code",
   "execution_count": 12,
   "metadata": {},
   "outputs": [
    {
     "name": "stdout",
     "output_type": "stream",
     "text": [
      "532\n"
     ]
    }
   ],
   "source": [
    "# tokenization\n",
    "col_to_value2token = {}\n",
    "cnt = 0\n",
    "for col in X.columns:\n",
    "    col_values = X[col].values\n",
    "    col_to_value2token[col] = {}\n",
    "    col_values_set = set(col_values)\n",
    "    for val in col_values_set:\n",
    "        if val not in col_to_value2token[col]:\n",
    "            col_to_value2token[col][val] = cnt\n",
    "            cnt += 1\n",
    "print(cnt)"
   ]
  },
  {
   "cell_type": "code",
   "execution_count": 18,
   "metadata": {},
   "outputs": [],
   "source": [
    "predicate_bitmap = [0, 0, 0, 0, 0, 0, 0, 0, 0, 1, 0, 0, 0, 0, 0, 0, 0, 0, 0, 0, 0, 0, 1, 0, 0, 0, 0, 0, 0, 0, 1, 0, 0, 0, 0, 0, 0, 0, 0, 0, 0]\n",
    "sql = [532, 533, 534, 535, 536, 537, 538, 539, 540, 133, 542, 543, 544, 545, 546, 547, 548, 549, 550, 551, 552, 553, 281, 555, 556, 557, 558, 559, 560, 561, 356, 563, 564, 565, 566, 567, 568, 569, 570, 571, 572]"
   ]
  },
  {
   "cell_type": "code",
   "execution_count": 22,
   "metadata": {},
   "outputs": [],
   "source": [
    "def parse_sql(predicate_bitmap, sql):\n",
    "    for col_idx, i in enumerate(predicate_bitmap):\n",
    "        if i == 0:\n",
    "            continue\n",
    "        cname = \"V\"+ str(col_idx + 1)\n",
    "        print(f\"{cname} Column\")\n",
    "        col_name = X.columns[col_idx]\n",
    "        value2token = col_to_value2token[col_name]\n",
    "        token2value = {v:k for k,v in value2token.items()}\n",
    "        filter_token = sql[col_idx]\n",
    "        filter_value = token2value[filter_token]\n",
    "        print(f'Column {cname}, filter condition {filter_value}')"
   ]
  },
  {
   "cell_type": "code",
   "execution_count": 23,
   "metadata": {},
   "outputs": [
    {
     "name": "stdout",
     "output_type": "stream",
     "text": [
      "V10 process\n",
      "Column V10, filter condition ' Adm support including clerical'\n",
      "V23 process\n",
      "Column V23, filter condition ' Child <18 never marr RP of subfamily'\n",
      "V31 process\n"
     ]
    },
    {
     "ename": "KeyError",
     "evalue": "356",
     "output_type": "error",
     "traceback": [
      "\u001b[0;31m---------------------------------------------------------------------------\u001b[0m",
      "\u001b[0;31mKeyError\u001b[0m                                  Traceback (most recent call last)",
      "Input \u001b[0;32mIn [23]\u001b[0m, in \u001b[0;36m<cell line: 1>\u001b[0;34m()\u001b[0m\n\u001b[0;32m----> 1\u001b[0m \u001b[43mparse_sql\u001b[49m\u001b[43m(\u001b[49m\u001b[43mpredicate_bitmap\u001b[49m\u001b[43m,\u001b[49m\u001b[43m \u001b[49m\u001b[43msql\u001b[49m\u001b[43m)\u001b[49m\n",
      "Input \u001b[0;32mIn [22]\u001b[0m, in \u001b[0;36mparse_sql\u001b[0;34m(predicate_bitmap, sql)\u001b[0m\n\u001b[1;32m      9\u001b[0m token2value \u001b[38;5;241m=\u001b[39m {v:k \u001b[38;5;28;01mfor\u001b[39;00m k,v \u001b[38;5;129;01min\u001b[39;00m value2token\u001b[38;5;241m.\u001b[39mitems()}\n\u001b[1;32m     10\u001b[0m filter_token \u001b[38;5;241m=\u001b[39m sql[col_idx]\n\u001b[0;32m---> 11\u001b[0m filter_value \u001b[38;5;241m=\u001b[39m \u001b[43mtoken2value\u001b[49m\u001b[43m[\u001b[49m\u001b[43mfilter_token\u001b[49m\u001b[43m]\u001b[49m\n\u001b[1;32m     12\u001b[0m \u001b[38;5;28mprint\u001b[39m(\u001b[38;5;124mf\u001b[39m\u001b[38;5;124m'\u001b[39m\u001b[38;5;124mColumn \u001b[39m\u001b[38;5;132;01m{\u001b[39;00mcname\u001b[38;5;132;01m}\u001b[39;00m\u001b[38;5;124m, filter condition \u001b[39m\u001b[38;5;132;01m{\u001b[39;00mfilter_value\u001b[38;5;132;01m}\u001b[39;00m\u001b[38;5;124m'\u001b[39m)\n",
      "\u001b[0;31mKeyError\u001b[0m: 356"
     ]
    }
   ],
   "source": [
    "parse_sql(predicate_bitmap, sql)"
   ]
  },
  {
   "cell_type": "code",
   "execution_count": 24,
   "metadata": {},
   "outputs": [
    {
     "data": {
      "text/plain": [
       "{'4': 357, '0': 358, '5': 359, '2': 360, '6': 361, '1': 362, '3': 363}"
      ]
     },
     "execution_count": 24,
     "metadata": {},
     "output_type": "execute_result"
    }
   ],
   "source": [
    "col_to_value2token[X.columns[30]]"
   ]
  },
  {
   "cell_type": "markdown",
   "metadata": {},
   "source": []
  },
  {
   "cell_type": "code",
   "execution_count": 25,
   "metadata": {},
   "outputs": [
    {
     "data": {
      "text/plain": [
       "41"
      ]
     },
     "execution_count": 25,
     "metadata": {},
     "output_type": "execute_result"
    }
   ],
   "source": [
    "len(X.columns)"
   ]
  },
  {
   "cell_type": "code",
   "execution_count": null,
   "metadata": {},
   "outputs": [],
   "source": []
  }
 ],
 "metadata": {
  "kernelspec": {
   "display_name": "base",
   "language": "python",
   "name": "python3"
  },
  "language_info": {
   "codemirror_mode": {
    "name": "ipython",
    "version": 3
   },
   "file_extension": ".py",
   "mimetype": "text/x-python",
   "name": "python",
   "nbconvert_exporter": "python",
   "pygments_lexer": "ipython3",
   "version": "3.9.12"
  }
 },
 "nbformat": 4,
 "nbformat_minor": 2
}
